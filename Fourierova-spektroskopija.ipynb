{
 "cells": [
  {
   "cell_type": "markdown",
   "metadata": {},
   "source": [
    "# Fourierova spektroskopija"
   ]
  },
  {
   "cell_type": "code",
   "execution_count": 260,
   "metadata": {},
   "outputs": [
    {
     "data": {
      "text/plain": [
       "<Figure size 1080x360 with 0 Axes>"
      ]
     },
     "metadata": {},
     "output_type": "display_data"
    },
    {
     "data": {
      "application/vnd.jupyter.widget-view+json": {
       "model_id": "1a9ed3cc1c0647bf842757a240d5bd72",
       "version_major": 2,
       "version_minor": 0
      },
      "text/plain": [
       "VBox(children=(HTML(value='<b> Parametri poskusa:</>'), Dropdown(description='Izvor', index=2, options=('Laser…"
      ]
     },
     "metadata": {},
     "output_type": "display_data"
    },
    {
     "data": {
      "application/vnd.jupyter.widget-view+json": {
       "model_id": "c3fb1a92cd7343a3b3cdacbfa982e2b4",
       "version_major": 2,
       "version_minor": 0
      },
      "text/plain": [
       "Output()"
      ]
     },
     "metadata": {},
     "output_type": "display_data"
    },
    {
     "data": {
      "application/vnd.jupyter.widget-view+json": {
       "model_id": "6be33b81780d4402b4a468b84af538d6",
       "version_major": 2,
       "version_minor": 0
      },
      "text/plain": [
       "Button(description='Izpis podatkov', style=ButtonStyle(), tooltip='Izpiše podatke')"
      ]
     },
     "metadata": {},
     "output_type": "display_data"
    },
    {
     "data": {
      "application/vnd.jupyter.widget-view+json": {
       "model_id": "ab78985d63704c27a0b11b5a5e1b4ae2",
       "version_major": 2,
       "version_minor": 0
      },
      "text/plain": [
       "VBox(children=(HTML(value='<b>Rezultati:</>'), GridspecLayout(children=(Output(layout=Layout(border='1px solid…"
      ]
     },
     "metadata": {},
     "output_type": "display_data"
    }
   ],
   "source": [
    "#Copyright (c) 2020 Tomaž Mertelj\n",
    "\n",
    "%matplotlib inline\n",
    "from ipywidgets import interact,interactive_output, HBox, VBox, Button, Output,Valid,BoundedFloatText\n",
    "from ipywidgets import FloatSlider, Select, Dropdown, Layout,Label,HTML, Text, FloatLogSlider,GridspecLayout\n",
    "import matplotlib.pyplot as plt\n",
    "import numpy as np\n",
    "import math\n",
    "\n",
    "tau=0.004\n",
    "noise=0.003\n",
    "laser_k=2*math.pi/0.6328\n",
    "Hg_lines=[[.4047,400],[.4358,1000],[.5462,500],[.5677105,200]]\n",
    "Hg_cl=20\n",
    "wl_k0=1/1.1\n",
    "wl_kT=.2\n",
    "wl_i0=500\n",
    "i0=1\n",
    "plt.rcParams[\"figure.figsize\"] = (15, 5) # (w, h)\n",
    "plt.subplots_adjust(left=None, bottom=None, right=None, top=None, wspace=0.1, hspace=0.1)\n",
    "\n",
    "def generate(src,len,step,apod,data_flag):\n",
    "    x=np.arange(-len,len,step)\n",
    "    freq=np.fft.fftfreq(x.size, d=2*step)\n",
    "    inoise=np.random.normal(0*x,noise)\n",
    "    if src=='Laser':\n",
    "        idiode=i0*(np.cos(2*laser_k*x))\n",
    "    elif src=='Hg':\n",
    "        idiode=0*x\n",
    "        for line in Hg_lines:\n",
    "            k=2*math.pi/line[0]\n",
    "            idiode=idiode+line[1]/1000*(np.cos(2*k*x)*np.exp(-(x/Hg_cl)**2))\n",
    "    elif src=='Žarnica':\n",
    "        spect=[]\n",
    "        for fr in freq:\n",
    "            af=abs(fr)\n",
    "            if af>0:\n",
    "                y=abs(af)**3*wl_i0/(np.exp(af/wl_kT)-1)/(1+np.exp(-50*(af-wl_k0)))*np.exp(4j*math.pi*fr*len)\n",
    "            else:\n",
    "                y=0\n",
    "            spect.append(y)\n",
    "        idiode=(np.fft.ifft(spect)).real\n",
    "                    \n",
    "    else:\n",
    "        idiode=0*x\n",
    "    idiode=idiode+inoise\n",
    "    if apod=='Hamming':\n",
    "        iapod=idiode*(0.54+0.46*np.cos(math.pi*x/len))\n",
    "    elif apod=='Bartlet':\n",
    "        iapod=idiode*(1-np.abs(x/len))\n",
    "    elif apod=='Cosine':\n",
    "        iapod=idiode*np.cos(math.pi*x/(2*len)) \n",
    "    elif apod=='Gaussian':\n",
    "        iapod=idiode*np.exp(-2*(x/(len))**2)     \n",
    "    else:\n",
    "        iapod=idiode*1\n",
    "    cspect=np.fft.fft(iapod)    \n",
    "    spect=np.abs(cspect)\n",
    "    coff=int(spect.size/2)\n",
    "    spect=spect[:coff]\n",
    "    freq=freq[:coff]\n",
    "    fig, axes = plt.subplots(1,2)\n",
    "    axes[0].plot(x, idiode)\n",
    "    axes[0].plot(x, iapod)\n",
    "    axes[1].plot(freq, spect)\n",
    "    axes[0].set_ylabel(r'($I_{d}-I_{d0}$) (polj. en.)', fontsize=20)\n",
    "    axes[1].set_ylabel(r'FFT($I_{d}$)', fontsize=20)\n",
    "    axes[0].set_xlabel(r'$x$ ($\\mu$m)', fontsize=20)    \n",
    "    axes[1].set_xlabel(r'valovno št. (1/$\\mu$m)', fontsize=20)\n",
    "    axes[1].set_xlim([0,np.max(freq)])\n",
    "    spect_widget.clear_output()\n",
    "    ifg_widget.clear_output()\n",
    "    if data_flag:\n",
    "        fs_flag_widget.value=False\n",
    "        with spect_widget:\n",
    "            print('frekvenca\\tamplituda')\n",
    "            for idx, fi in np.ndenumerate(freq):\n",
    "                print(f'{freq[idx]:.3}\\t{spect[idx]}')\n",
    "        with ifg_widget:\n",
    "            print('pomik\\tintenziteta\\tapodizirano')\n",
    "            for idx, id in np.ndenumerate(idiode):\n",
    "                print(f'{x[idx]:.3}\\t{idiode[idx]:.3}\\t{iapod[idx]:.3}')    \n",
    "    \n",
    "scan_len_widget = BoundedFloatText(\n",
    "    min=1, \n",
    "    max=1000, \n",
    "    step=1, \n",
    "    value=10, \n",
    "    continuous_update=False,description='Pomik zrcala ($\\mu$m)',\n",
    "    style={'description_width': '50%','width': '40%'}\n",
    ")\n",
    "\n",
    "scan_step_widget = BoundedFloatText(\n",
    "    min=0.02, \n",
    "    max=0.3, \n",
    "    step=0.02, \n",
    "    value=.1, \n",
    "    continuous_update=False,description='Korak pomika ($\\mu$m)',\n",
    "    style={'description_width': '50%','width': '40%'}\n",
    ")\n",
    "\n",
    "source_widget =  Dropdown(\n",
    "    options=['Laser','Hg','Žarnica'],\n",
    "    value='Žarnica',\n",
    "    description='Izvor',\n",
    "    disabled=False,\n",
    "#    layout=Layout(width='95%', height='auto'),     \n",
    "    style={'description_width': '50%','width': '40%'}\n",
    ")\n",
    "\n",
    "apod_widget =  Dropdown(\n",
    "    options=['Box','Bartlet','Cosine','Gaussian','Hamming'],\n",
    "    value='Box',\n",
    "    description='Apodizacija',\n",
    "    disabled=False,\n",
    "#    layout=Layout(width='95%', height='auto'),     \n",
    "    style={'description_width': '50%','width': '40%'}\n",
    ")\n",
    "\n",
    "spect_widget=Output(\n",
    "    layout={'border': '1px solid black', 'height': '300px', 'overflow_y': 'scroll'},\n",
    "    description='Spekter:',\n",
    ")\n",
    "\n",
    "ifg_widget=Output(\n",
    "    layout={'border': '1px solid black', 'height': '300px','overflow_y': 'scroll'},\n",
    "    description='Interfrogram:',\n",
    ")\n",
    "\n",
    "fs_flag_widget=Valid(\n",
    "    value=False,\n",
    "    description='',\n",
    ")\n",
    "\n",
    "fs_widget=Button(\n",
    "    description='Izpis podatkov',\n",
    "    disabled=False,\n",
    "    button_style='', # 'success', 'info', 'warning', 'danger' or ''\n",
    "    tooltip='Izpiše podatke',\n",
    "    icon=''\n",
    ")\n",
    "\n",
    "def on_fs_widget_clicked(b):\n",
    "    fs_flag_widget.value=True\n",
    "    fs_widget.enabled=False\n",
    "\n",
    "\n",
    "fs_widget.on_click(on_fs_widget_clicked)\n",
    "\n",
    "out=interactive_output(generate, {'src':source_widget,\n",
    "                                  'len':scan_len_widget, \n",
    "                                  'step':scan_step_widget, \n",
    "                                  'apod':apod_widget,\n",
    "                                  'data_flag':fs_flag_widget\n",
    "                                 });\n",
    "\n",
    "params_box=VBox([HTML('<b> Parametri poskusa:</>'),source_widget,scan_len_widget,scan_step_widget,apod_widget])\n",
    "\n",
    "grid=GridspecLayout(1,2)\n",
    "grid[0,0]=ifg_widget\n",
    "grid[0,1]=spect_widget\n",
    "\n",
    "data_box=VBox([HTML('<b>Rezultati:</>'),grid])\n",
    "\n",
    "display(params_box,out,fs_widget,data_box)"
   ]
  },
  {
   "cell_type": "code",
   "execution_count": null,
   "metadata": {},
   "outputs": [],
   "source": []
  }
 ],
 "metadata": {
  "kernelspec": {
   "display_name": "Python 3",
   "language": "python",
   "name": "python3"
  },
  "language_info": {
   "codemirror_mode": {
    "name": "ipython",
    "version": 3
   },
   "file_extension": ".py",
   "mimetype": "text/x-python",
   "name": "python",
   "nbconvert_exporter": "python",
   "pygments_lexer": "ipython3",
   "version": "3.8.5"
  }
 },
 "nbformat": 4,
 "nbformat_minor": 1
}
