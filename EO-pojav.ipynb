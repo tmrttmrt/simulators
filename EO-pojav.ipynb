{
 "cells": [
  {
   "cell_type": "markdown",
   "metadata": {},
   "source": [
    "# Elektrooptični pojav"
   ]
  },
  {
   "cell_type": "code",
   "execution_count": 11,
   "metadata": {},
   "outputs": [
    {
     "data": {
      "application/vnd.jupyter.widget-view+json": {
       "model_id": "dcf403a27de64d8daf7873f024821709",
       "version_major": 2,
       "version_minor": 0
      },
      "text/plain": [
       "HBox(children=(VBox(children=(HTML(value='<b> Parametri poskusa:</>'), FloatSlider(value=0.0, continuous_updat…"
      ]
     },
     "metadata": {},
     "output_type": "display_data"
    },
    {
     "data": {
      "application/vnd.jupyter.widget-view+json": {
       "model_id": "e5d5d9f52d29434b97a99770685ebf57",
       "version_major": 2,
       "version_minor": 0
      },
      "text/plain": [
       "VBox(children=(HTML(value='<b> Osciloskop:</>', layout=Layout(width='20%')), HBox(children=(VBox(children=(Dro…"
      ]
     },
     "metadata": {},
     "output_type": "display_data"
    }
   ],
   "source": [
    "#Copyright (c) 2020 Tomaž Mertelj\n",
    "\n",
    "%matplotlib inline\n",
    "from ipywidgets import interact,interactive_output, HBox, VBox\n",
    "from ipywidgets import FloatSlider, Select, Dropdown, Layout,Label,HTML, Text, FloatLogSlider\n",
    "import matplotlib.pyplot as plt\n",
    "import numpy as np\n",
    "import math\n",
    "\n",
    "tau=0.004\n",
    "noise=0.01\n",
    "\n",
    "def generate(ampl,freq,pol_angle,trange,sens,tc):\n",
    "    pol_angle=pol_angle+30\n",
    "    t=np.arange(0,trange,trange/500)\n",
    "    Uref=ampl*np.exp(2j*math.pi*freq*t)\n",
    "    Upsi=np.sin(2*(pol_angle/90*math.pi+(Uref/(1+2j*math.pi*freq*tau)).real))\n",
    "    tlock=np.arange(0,2*math.pi,2*math.pi/100)\n",
    "    Urlock=np.exp(1j*tlock)\n",
    "    Uplock=np.sin(2*(pol_angle/90*math.pi+(ampl*Urlock/(1+2j*math.pi*freq*tau)).real))\n",
    "    alock=np.dot(Uplock,Urlock)/50\n",
    "    x_widget.value='{:.3}'.format(alock.real+np.random.normal(0,noise/tc))\n",
    "    y_widget.value='{:.3}'.format(alock.imag+np.random.normal(0,noise/tc))\n",
    "    fig, axes = plt.subplots(2,1)\n",
    "    axes[0].plot(t, Uref.real)\n",
    "    axes[1].plot(t, Upsi)\n",
    "    axes[1].set_ylim([-sens,sens])\n",
    "    axes[0].set_ylabel(r'$U_{ref} (V)$', fontsize=20)\n",
    "    axes[1].set_ylabel(r'$I_{p}$', fontsize=20)\n",
    "    axes[1].set_xlabel(r'$t$ (s)', fontsize=20)    \n",
    "    axes[0].set_xlabel(r'$t$ (s)', fontsize=20)\n",
    "    \n",
    "    \n",
    "freq_widget = FloatLogSlider(min=0, max=3,step=0.05, value=1.0, base=10, \n",
    "                          continuous_update=False,description='Frekvenca (Hz)',\n",
    "                             style={'description_width': '30%'})\n",
    "ampl_widget = FloatSlider(min=0, max=2, step=0.05, value=1, \n",
    "                          continuous_update=False,description='Amplituda $U_{ref}$ (V)',\n",
    "                          style={'description_width': '40%'})\n",
    "pol_angle_widget = FloatSlider(min=0, max=360, step=1, value=0, \n",
    "                               continuous_update=False,description='Kot anal. (st.)',\n",
    "                               style={'description_width': '30%'})\n",
    "trange_widget =  Dropdown(\n",
    "    options=[0.01,0.03,.1,.3,1,3],\n",
    "    value=3,\n",
    "    description='Horiz. range (s):',\n",
    "    disabled=False,\n",
    "    layout=Layout(width='60%', height='auto'),\n",
    "    style={'description_width': '60%'}\n",
    ")\n",
    "\n",
    "sens_widget = Dropdown(\n",
    "    options=[0.01,0.03,0.1,0.3,1,3],\n",
    "    value=1,\n",
    "    description='Vert. range (V):',\n",
    "    disabled=False,\n",
    "    layout=Layout(width='60%', height='auto'),\n",
    "    style={'description_width': '60%'}\n",
    ")\n",
    "\n",
    "tc_widget = Dropdown(\n",
    "    options=[0.01,0.03,0.1,0.3,1,3],\n",
    "    value=1,\n",
    "    description='Časovna konstanta (s):',\n",
    "    disabled=False,\n",
    "#    layout=Layout(width='60%', height='auto'),\n",
    "    style={'description_width': '70%'}\n",
    ")\n",
    "\n",
    "x_widget=Text(\n",
    "    value='',\n",
    "    description='X (V):',\n",
    "    disabled=True,\n",
    "    style={'description_width': '70%'}\n",
    ")\n",
    "\n",
    "y_widget=Text(\n",
    "    value='',\n",
    "    description='Y (V):',\n",
    "    disabled=True,\n",
    "    style={'description_width': '70%'}\n",
    ")\n",
    "\n",
    "out=interactive_output(generate, {'ampl':ampl_widget,\n",
    "                                  'freq':freq_widget, \n",
    "                                  'pol_angle':pol_angle_widget, \n",
    "                                  'trange':trange_widget,\n",
    "                                  'sens':sens_widget,\n",
    "                                  'tc':tc_widget\n",
    "                                 });\n",
    "\n",
    "params_box=VBox([HTML('<b> Parametri poskusa:</>'),pol_angle_widget])\n",
    "\n",
    "lockin_box=VBox([HTML('<b> Fazno občutljiv ojačevalnik:</>'),freq_widget, ampl_widget,tc_widget,x_widget,y_widget])\n",
    "\n",
    "oscillo_box=VBox([HTML('<b> Osciloskop:</>',layout=Layout(width='20%')),\n",
    "                  HBox([VBox([trange_widget,sens_widget],\n",
    "                             layout=Layout(width='30%', height='auto')),\n",
    "                        out])\n",
    "                 ])\n",
    "\n",
    "display(HBox([params_box,HTML('',layout=Layout(width='10%')),lockin_box]), oscillo_box)"
   ]
  },
  {
   "cell_type": "code",
   "execution_count": null,
   "metadata": {},
   "outputs": [],
   "source": []
  },
  {
   "cell_type": "code",
   "execution_count": null,
   "metadata": {},
   "outputs": [],
   "source": []
  }
 ],
 "metadata": {
  "kernelspec": {
   "display_name": "Python 3",
   "language": "python",
   "name": "python3"
  },
  "language_info": {
   "codemirror_mode": {
    "name": "ipython",
    "version": 3
   },
   "file_extension": ".py",
   "mimetype": "text/x-python",
   "name": "python",
   "nbconvert_exporter": "python",
   "pygments_lexer": "ipython3",
   "version": "3.8.5"
  }
 },
 "nbformat": 4,
 "nbformat_minor": 1
}
